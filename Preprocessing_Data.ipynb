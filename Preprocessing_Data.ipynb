{
  "nbformat": 4,
  "nbformat_minor": 0,
  "metadata": {
    "colab": {
      "provenance": []
    },
    "kernelspec": {
      "name": "python3",
      "display_name": "Python 3"
    },
    "language_info": {
      "name": "python"
    }
  },
  "cells": [
    {
      "cell_type": "markdown",
      "source": [
        "**MEMUAT DATA DAN INSPEKSI DATA AWAL**"
      ],
      "metadata": {
        "id": "uQCBgqQvbgbG"
      }
    },
    {
      "cell_type": "code",
      "source": [
        "# 1. Persiapan Awal: Impor Pustaka\n",
        "import pandas as pd\n",
        "import numpy as np\n",
        "\n",
        "# LANGKAH 1: MEMUAT DAN INSPEKSI DATA AWAL\n",
        "print(\"--- Memulai Proses: Memuat dan Inspeksi Data ---\")\n",
        "\n",
        "try:\n",
        "    nama_file_data = 'movie_sample_dataset.csv'\n",
        "    df = pd.read_csv(nama_file_data)\n",
        "    print(f\"Dataset '{nama_file_data}' berhasil dimuat.\")\n",
        "except FileNotFoundError:\n",
        "    print(f\"Error: File '{nama_file_data}' tidak ditemukan. Pastikan file berada di folder yang sama.\")\n",
        "    exit()\n",
        "\n",
        "# Menampilkan 5 baris pertama untuk gambaran umum\n",
        "print(\"\\n5 Baris Pertama Data Mentah:\")\n",
        "print(df.head())\n",
        "\n",
        "# Mengganti nilai tidak standar menjadi format NaN\n",
        "df.replace([\"N/A\", \"Null\", \"Nan\"], np.nan, inplace=True)\n",
        "\n",
        "# Menampilkan informasi dasar dan jumlah nilai kosong awal\n",
        "print(\"\\nInformasi Awal dan Jumlah Nilai Kosong:\")\n",
        "df.info()\n",
        "print(\"\\nJumlah nilai kosong per kolom sebelum pembersihan:\")\n",
        "print(df.isnull().sum())\n"
      ],
      "metadata": {
        "colab": {
          "base_uri": "https://localhost:8080/"
        },
        "id": "BRTwkYAURJKh",
        "outputId": "6bdc836c-6ea0-4b04-abd8-3e527fd87ab3"
      },
      "execution_count": 28,
      "outputs": [
        {
          "output_type": "stream",
          "name": "stdout",
          "text": [
            "--- Memulai Proses: Memuat dan Inspeksi Data ---\n",
            "Dataset 'movie_sample_dataset.csv' berhasil dimuat.\n",
            "\n",
            "5 Baris Pertama Data Mentah:\n",
            "    color      director_name  duration        gross  \\\n",
            "0   Color    Martin Scorsese       240  116866727.0   \n",
            "1   Color        Shane Black       195  408992272.0   \n",
            "2  color   Quentin Tarantino       187   54116191.0   \n",
            "3   Color   Kenneth Lonergan       186      46495.0   \n",
            "4   Color      Peter Jackson       186  258355354.0   \n",
            "\n",
            "                                 genres                          movie_title  \\\n",
            "0          Biography|Comedy|Crime|Drama              The Wolf of Wall Street   \n",
            "1               Action|Adventure|Sci-Fi                           Iron Man 3   \n",
            "2  Crime|Drama|Mystery|Thriller|Western                    The Hateful Eight   \n",
            "3                                 Drama                             Margaret   \n",
            "4                     Adventure|Fantasy  The Hobbit: The Desolation of Smaug   \n",
            "\n",
            "   title_year language country       budget  imdb_score  \\\n",
            "0        2013  English     USA  100000000.0         8.2   \n",
            "1        2013  English     USA  200000000.0         7.2   \n",
            "2        2015  English     USA   44000000.0         7.9   \n",
            "3        2011  English     usa   14000000.0         6.5   \n",
            "4        2013  English     USA  225000000.0         7.9   \n",
            "\n",
            "                                              actors  movie_facebook_likes  \n",
            "0  Leonardo DiCaprio,Matthew McConaughey,Jon Favreau                138000  \n",
            "1          Robert Downey Jr.,Jon Favreau,Don Cheadle                 95000  \n",
            "2          Craig Stark,Jennifer Jason Leigh,Zoë Bell                114000  \n",
            "3        Matt Damon,Kieran Culkin,John Gallagher Jr.                     0  \n",
            "4              Aidan Turner,Adam Brown,James Nesbitt                 83000  \n",
            "\n",
            "Informasi Awal dan Jumlah Nilai Kosong:\n",
            "<class 'pandas.core.frame.DataFrame'>\n",
            "RangeIndex: 99 entries, 0 to 98\n",
            "Data columns (total 13 columns):\n",
            " #   Column                Non-Null Count  Dtype  \n",
            "---  ------                --------------  -----  \n",
            " 0   color                 88 non-null     object \n",
            " 1   director_name         86 non-null     object \n",
            " 2   duration              99 non-null     int64  \n",
            " 3   gross                 91 non-null     float64\n",
            " 4   genres                98 non-null     object \n",
            " 5   movie_title           99 non-null     object \n",
            " 6   title_year            99 non-null     int64  \n",
            " 7   language              99 non-null     object \n",
            " 8   country               99 non-null     object \n",
            " 9   budget                95 non-null     float64\n",
            " 10  imdb_score            99 non-null     float64\n",
            " 11  actors                99 non-null     object \n",
            " 12  movie_facebook_likes  99 non-null     int64  \n",
            "dtypes: float64(3), int64(3), object(7)\n",
            "memory usage: 10.2+ KB\n",
            "\n",
            "Jumlah nilai kosong per kolom sebelum pembersihan:\n",
            "color                   11\n",
            "director_name           13\n",
            "duration                 0\n",
            "gross                    8\n",
            "genres                   1\n",
            "movie_title              0\n",
            "title_year               0\n",
            "language                 0\n",
            "country                  0\n",
            "budget                   4\n",
            "imdb_score               0\n",
            "actors                   0\n",
            "movie_facebook_likes     0\n",
            "dtype: int64\n"
          ]
        }
      ]
    },
    {
      "cell_type": "markdown",
      "source": [
        "Kode ini merupakan langkah awal dan fundamental dalam setiap proyek analisis data, yaitu memuat dan melakukan inspeksi awal terhadap dataset.\n",
        "\n",
        "Proses dimulai dengan mengimpor dua pustaka utama: Pandas (diberi alias pd) yang krusial untuk manipulasi dan analisis data tabular, serta NumPy (diberi alias np) yang digunakan untuk operasi numerik, terutama untuk merepresentasikan nilai kosong standar (NaN).\n",
        "\n",
        "Selanjutnya, kode mencoba memuat data dari sebuah file bernama movie_sample_dataset.csv ke dalam sebuah struktur data yang disebut DataFrame, yang diberi nama df. Proses ini dibungkus dalam blok try-except untuk menangani kemungkinan error jika file tidak ditemukan, sehingga program akan memberikan pesan yang jelas dan berhenti jika file tidak ada.\n",
        "\n",
        "Setelah data berhasil dimuat, dilakukan beberapa langkah inspeksi untuk memahami kondisi awal data:\n",
        "\n",
        "1. df.head(): Menampilkan lima baris pertama dari dataset untuk memberikan gambaran visual mengenai struktur kolom dan isi data mentah.\n",
        "\n",
        "2. df.replace(): Membersihkan data dengan mencari nilai-nilai tidak standar seperti string \"N/A\", \"Null\", dan \"Nan\" lalu menggantinya dengan format np.nan. Langkah ini penting agar Pandas dapat secara konsisten mengenali semua nilai tersebut sebagai data yang hilang (missing value).\n",
        "\n",
        "3. df.info(): Menampilkan ringkasan teknis dari DataFrame, termasuk jumlah total baris, nama setiap kolom, jumlah nilai yang tidak kosong (non-null), dan tipe data dari setiap kolom (misalnya, object, int64, float64).\n",
        "\n",
        "4. df.isnull().sum(): Menghitung dan menampilkan jumlah total nilai kosong (NaN) untuk setiap kolom. Informasi ini sangat penting untuk merencanakan strategi pembersihan data pada langkah selanjutnya."
      ],
      "metadata": {
        "id": "zayYthB7aspz"
      }
    },
    {
      "cell_type": "markdown",
      "source": [
        "**MEMBERSIHKAN DATA**"
      ],
      "metadata": {
        "id": "YNSmEP9lb48F"
      }
    },
    {
      "cell_type": "code",
      "source": [
        "# LANGKAH 2: MEMBERSIHKAN DATA\n",
        "print(\"\\n--- Memulai Langkah 2: Pembersihan Data ---\")\n",
        "\n",
        "# Menghapus baris jika kolom 'gross' atau 'budget' kosong\n",
        "df.dropna(subset=['gross', 'budget'], inplace=True)\n",
        "print(\"\\nBaris dengan 'gross' atau 'budget' kosong telah dihapus.\")\n",
        "\n",
        "# Mengisi nilai kosong sesuai instruksi\n",
        "# Mengisi 'color' dengan modus (nilai paling sering muncul)\n",
        "modus_warna = df['color'].mode()[0]\n",
        "df['color'].fillna(modus_warna, inplace=True)\n",
        "print(f\"Nilai 'color' yang kosong diisi dengan modus: '{modus_warna}'.\")\n",
        "\n",
        "# Mengisi 'director_name' dengan 'anonim'\n",
        "df['director_name'].fillna('anonim', inplace=True)\n",
        "print(\"Nilai 'director_name' yang kosong diisi dengan 'anonim'.\")\n",
        "\n",
        "# Mengisi 'genres' dengan 'tidak diketahui'\n",
        "df['genres'].fillna('tidak diketahui', inplace=True)\n",
        "print(\"Nilai 'genres' yang kosong diisi dengan 'tidak diketahui'.\")\n",
        "\n",
        "# Menghapus baris duplikat\n",
        "jumlah_baris_awal = len(df)\n",
        "df.drop_duplicates(inplace=True)\n",
        "print(f\"{jumlah_baris_awal - len(df)} baris duplikat telah dihapus.\")\n",
        "\n",
        "# Standarisasi data teks (spasi dan huruf kecil)\n",
        "df['country'] = df['country'].str.strip().str.lower()\n",
        "df['color'] = df['color'].str.strip().str.lower()\n",
        "print(\"Kolom 'country' dan 'color' telah distandarisasi.\")"
      ],
      "metadata": {
        "colab": {
          "base_uri": "https://localhost:8080/"
        },
        "id": "k8SnnsunU-lf",
        "outputId": "16d0b64b-7372-4b49-8551-d10089e95713"
      },
      "execution_count": 29,
      "outputs": [
        {
          "output_type": "stream",
          "name": "stdout",
          "text": [
            "\n",
            "--- Memulai Langkah 2: Pembersihan Data ---\n",
            "\n",
            "Baris dengan 'gross' atau 'budget' kosong telah dihapus.\n",
            "Nilai 'color' yang kosong diisi dengan modus: 'Color'.\n",
            "Nilai 'director_name' yang kosong diisi dengan 'anonim'.\n",
            "Nilai 'genres' yang kosong diisi dengan 'tidak diketahui'.\n",
            "5 baris duplikat telah dihapus.\n",
            "Kolom 'country' dan 'color' telah distandarisasi.\n"
          ]
        },
        {
          "output_type": "stream",
          "name": "stderr",
          "text": [
            "/tmp/ipython-input-4091639174.py:13: FutureWarning: A value is trying to be set on a copy of a DataFrame or Series through chained assignment using an inplace method.\n",
            "The behavior will change in pandas 3.0. This inplace method will never work because the intermediate object on which we are setting values always behaves as a copy.\n",
            "\n",
            "For example, when doing 'df[col].method(value, inplace=True)', try using 'df.method({col: value}, inplace=True)' or df[col] = df[col].method(value) instead, to perform the operation inplace on the original object.\n",
            "\n",
            "\n",
            "  df['color'].fillna(modus_warna, inplace=True)\n",
            "/tmp/ipython-input-4091639174.py:17: FutureWarning: A value is trying to be set on a copy of a DataFrame or Series through chained assignment using an inplace method.\n",
            "The behavior will change in pandas 3.0. This inplace method will never work because the intermediate object on which we are setting values always behaves as a copy.\n",
            "\n",
            "For example, when doing 'df[col].method(value, inplace=True)', try using 'df.method({col: value}, inplace=True)' or df[col] = df[col].method(value) instead, to perform the operation inplace on the original object.\n",
            "\n",
            "\n",
            "  df['director_name'].fillna('anonim', inplace=True)\n",
            "/tmp/ipython-input-4091639174.py:21: FutureWarning: A value is trying to be set on a copy of a DataFrame or Series through chained assignment using an inplace method.\n",
            "The behavior will change in pandas 3.0. This inplace method will never work because the intermediate object on which we are setting values always behaves as a copy.\n",
            "\n",
            "For example, when doing 'df[col].method(value, inplace=True)', try using 'df.method({col: value}, inplace=True)' or df[col] = df[col].method(value) instead, to perform the operation inplace on the original object.\n",
            "\n",
            "\n",
            "  df['genres'].fillna('tidak diketahui', inplace=True)\n"
          ]
        }
      ]
    },
    {
      "cell_type": "markdown",
      "source": [
        "Langkah ini berfokus pada pembersihan data mentah untuk meningkatkan kualitas dan konsistensinya. Prosesnya adalah sebagai berikut:\n",
        "\n",
        "Pertama, kode menangani data yang tidak lengkap dengan menghapus baris-baris yang tidak memiliki nilai pada kolom gross (pendapatan) atau budget (anggaran) menggunakan dropna(). Baris-baris ini dihilangkan karena data finansial yang hilang membuatnya kurang berguna untuk analisis.\n",
        "\n",
        "Kedua, dilakukan pengisian nilai-nilai yang kosong (missing values) dengan strategi yang berbeda untuk setiap kolom. Untuk kolom color, nilai yang kosong diisi dengan modus, yaitu nilai yang paling sering muncul di kolom tersebut. Untuk kolom director_name dan genres, nilai yang kosong diisi dengan string kategoris, yaitu \"anonim\" dan \"tidak diketahui\", untuk menandakan bahwa data tersebut memang tidak tersedia.\n",
        "\n",
        "Ketiga, untuk memastikan integritas data, semua baris yang merupakan duplikat persis dari baris lain dihapus menggunakan drop_duplicates(). Ini mencegah data yang sama dihitung lebih dari satu kali dalam analisis.\n",
        "\n",
        "Terakhir, dilakukan standarisasi data teks pada kolom country dan color. Menggunakan fungsi .str.strip() untuk menghapus spasi yang tidak perlu di awal atau akhir teks, dan .str.lower() untuk mengubah semua teks menjadi huruf kecil. Langkah ini sangat penting untuk mengatasi inkonsistensi penulisan (misalnya, \"USA\", \"usa \", dan \"usa\" akan dianggap sebagai nilai yang sama)."
      ],
      "metadata": {
        "id": "nm_sxzQKcAVt"
      }
    },
    {
      "cell_type": "markdown",
      "source": [
        "**TRANSFORMASI DATA**"
      ],
      "metadata": {
        "id": "vx_C3Tp8cZgN"
      }
    },
    {
      "cell_type": "code",
      "source": [
        "# LANGKAH 3: TRANSFORMASI DATA\n",
        "print(\"\\n--- Memulai Langkah 3: Transformasi Data ---\")\n",
        "\n",
        "# Mengubah tipe data kolom menjadi tipe data yang sesuai\n",
        "numeric_cols = ['duration', 'gross', 'title_year', 'budget', 'imdb_score']\n",
        "for col in numeric_cols:\n",
        "    df[col] = pd.to_numeric(df[col], errors='coerce')"
      ],
      "metadata": {
        "colab": {
          "base_uri": "https://localhost:8080/"
        },
        "id": "xgj0HTMDVD_5",
        "outputId": "bab4dead-9980-47b0-9cea-8ee5aa2a12f8"
      },
      "execution_count": 30,
      "outputs": [
        {
          "output_type": "stream",
          "name": "stdout",
          "text": [
            "\n",
            "--- Memulai Langkah 3: Transformasi Data ---\n"
          ]
        }
      ]
    },
    {
      "cell_type": "markdown",
      "source": [
        "Kode ini menjalankan Langkah 3: Transformasi Data, yang merupakan tahap penting untuk memastikan setiap kolom memiliki tipe data yang benar agar dapat dianalisis lebih lanjut.\n",
        "\n",
        "Prosesnya dimulai dengan mendefinisikan sebuah daftar (list) bernama numeric_cols yang berisi nama-nama kolom yang seharusnya berisi data numerik, seperti duration, gross, title_year, budget, dan imdb_score. Mengelompokkan nama kolom seperti ini membuat kode lebih rapi dan mudah untuk dimodifikasi jika ada kolom lain yang perlu diubah.\n",
        "\n",
        "Selanjutnya, kode tersebut melakukan iterasi atau perulangan (loop) melalui setiap nama kolom dalam daftar numeric_cols. Di dalam perulangan, fungsi pd.to_numeric() dari Pandas diterapkan pada setiap kolom. Fungsi ini bertujuan untuk mengubah tipe data kolom tersebut menjadi tipe numerik (seperti integer atau float).\n",
        "\n",
        "Parameter errors='coerce' adalah bagian yang sangat penting. Parameter ini memberitahu Pandas untuk menangani nilai-nilai yang tidak bisa diubah menjadi angka (misalnya, jika ada teks atau simbol di dalam kolom angka). Alih-alih menyebabkan error dan menghentikan program, errors='coerce' akan secara otomatis mengubah nilai yang bermasalah tersebut menjadi NaN (Not a Number), yang menandakan nilai tersebut hilang atau tidak valid. Langkah ini memastikan proses konversi berjalan lancar dan data siap untuk perhitungan matematis."
      ],
      "metadata": {
        "id": "dY4QbaKtc2Mn"
      }
    },
    {
      "cell_type": "code",
      "source": [
        "# Memisahkan kolom 'genres'\n",
        "\n",
        "# 1. Pisahkan kolom 'genres' berdasarkan tanda '|' menjadi sebuah DataFrame baru\n",
        "df_genre_terpisah = df['genres'].str.split('|', expand=True)\n",
        "\n",
        "# 2. Buat nama kolom baru seperti 'genre_1', 'genre_2', dst.\n",
        "nama_kolom_baru = [f'genres_{i+1}' for i in range(df_genre_terpisah.shape[1])]\n",
        "df_genre_terpisah.columns = nama_kolom_baru\n",
        "\n",
        "# 3. Gabungkan kolom-kolom genre yang baru dengan DataFrame asli\n",
        "df_dengan_genre = pd.concat([df, df_genre_terpisah], axis=1)\n",
        "\n",
        "# Mengisi nilai kosong yang mungkin muncul setelah penggabungan dengan 'None' (atau teks lain)\n",
        "df_dengan_genre.fillna('None', inplace=True)\n",
        "\n",
        "# Hasil\n",
        "# Menampilkan 5 baris pertama dari DataFrame yang sudah digabungkan\n",
        "print(df_dengan_genre.head())\n",
        "\n"
      ],
      "metadata": {
        "colab": {
          "base_uri": "https://localhost:8080/"
        },
        "id": "RpOpDciiZG5O",
        "outputId": "e77e91cc-9f44-40d3-e7f7-c613cd49e767"
      },
      "execution_count": 31,
      "outputs": [
        {
          "output_type": "stream",
          "name": "stdout",
          "text": [
            "   color      director_name  duration        gross  \\\n",
            "0  color    Martin Scorsese       240  116866727.0   \n",
            "1  color        Shane Black       195  408992272.0   \n",
            "2  color  Quentin Tarantino       187   54116191.0   \n",
            "3  color   Kenneth Lonergan       186      46495.0   \n",
            "4  color      Peter Jackson       186  258355354.0   \n",
            "\n",
            "                                 genres                          movie_title  \\\n",
            "0          Biography|Comedy|Crime|Drama              The Wolf of Wall Street   \n",
            "1               Action|Adventure|Sci-Fi                           Iron Man 3   \n",
            "2  Crime|Drama|Mystery|Thriller|Western                    The Hateful Eight   \n",
            "3                                 Drama                             Margaret   \n",
            "4                     Adventure|Fantasy  The Hobbit: The Desolation of Smaug   \n",
            "\n",
            "   title_year language country       budget  imdb_score  \\\n",
            "0        2013  English     usa  100000000.0         8.2   \n",
            "1        2013  English     usa  200000000.0         7.2   \n",
            "2        2015  English     usa   44000000.0         7.9   \n",
            "3        2011  English     usa   14000000.0         6.5   \n",
            "4        2013  English     usa  225000000.0         7.9   \n",
            "\n",
            "                                              actors  movie_facebook_likes  \\\n",
            "0  Leonardo DiCaprio,Matthew McConaughey,Jon Favreau                138000   \n",
            "1          Robert Downey Jr.,Jon Favreau,Don Cheadle                 95000   \n",
            "2          Craig Stark,Jennifer Jason Leigh,Zoë Bell                114000   \n",
            "3        Matt Damon,Kieran Culkin,John Gallagher Jr.                     0   \n",
            "4              Aidan Turner,Adam Brown,James Nesbitt                 83000   \n",
            "\n",
            "    genres_1   genres_2 genres_3  genres_4 genres_5  \n",
            "0  Biography     Comedy    Crime     Drama     None  \n",
            "1     Action  Adventure   Sci-Fi      None     None  \n",
            "2      Crime      Drama  Mystery  Thriller  Western  \n",
            "3      Drama       None     None      None     None  \n",
            "4  Adventure    Fantasy     None      None     None  \n"
          ]
        }
      ]
    },
    {
      "cell_type": "markdown",
      "source": [
        "Kode ini bertujuan untuk melakukan restrukturisasi data pada kolom genres. Dalam dataset asli, satu film bisa memiliki beberapa genre yang digabungkan dalam satu teks dan dipisahkan oleh karakter pipa (|), misalnya \"Action|Adventure|Sci-Fi\". Kode ini memisahkan setiap genre tersebut ke dalam kolom-kolom individual.\n",
        "\n",
        "Prosesnya adalah sebagai berikut:\n",
        "\n",
        "1. Pemisahan Genre: Langkah pertama menggunakan fungsi .str.split('|', expand=True) pada kolom genres. Fungsi ini memotong teks di setiap baris berdasarkan karakter | dan, berkat argumen expand=True, hasilnya diperluas menjadi beberapa kolom baru dalam sebuah DataFrame sementara bernama df_genre_terpisah. Setiap kolom baru ini berisi satu genre.\n",
        "\n",
        "2. Pembuatan Nama Kolom Baru: Karena kolom-kolom baru tersebut secara default akan memiliki indeks numerik (0, 1, 2, ...), kode ini membuat nama kolom yang lebih deskriptif. Dengan menggunakan list comprehension, dibuatlah daftar nama seperti genres_1, genres_2, dan seterusnya, sesuai dengan jumlah kolom genre yang dihasilkan. Nama-nama baru ini kemudian ditetapkan sebagai nama kolom untuk df_genre_terpisah.\n",
        "\n",
        "3. Penggabungan DataFrame: DataFrame df_genre_terpisah yang berisi kolom-kolom genre baru kemudian digabungkan kembali dengan DataFrame asli (df). Fungsi pd.concat() dengan argumen axis=1 digunakan untuk menggabungkan kedua DataFrame secara berdampingan (berdasarkan kolom).\n",
        "\n",
        "4. Penanganan Nilai Kosong: Setelah penggabungan, akan ada nilai kosong (NaN) di kolom genre baru, terutama untuk film yang memiliki lebih sedikit genre daripada film dengan genre terbanyak. Kode ini mengisi semua nilai kosong yang tersisa di DataFrame gabungan dengan string 'None' untuk menandakan bahwa tidak ada genre tambahan pada posisi tersebut.\n",
        "\n",
        "Terakhir, print(df_dengan_genre.head()) menampilkan lima baris pertama dari DataFrame hasil akhir untuk memverifikasi bahwa kolom-kolom genre baru telah berhasil ditambahkan."
      ],
      "metadata": {
        "id": "ftN7ZQoPdC3m"
      }
    },
    {
      "cell_type": "code",
      "source": [
        "# Transformasi kolom 'country': menyeragamkan penggunaan huruf besar\n",
        "df['country'] = df['country'].str.upper()"
      ],
      "metadata": {
        "id": "QLjlwKbcZ9BU"
      },
      "execution_count": 32,
      "outputs": []
    },
    {
      "cell_type": "markdown",
      "source": [
        "Kode ini melakukan sebuah langkah transformasi data yang bertujuan untuk standarisasi, yaitu menyeragamkan format penulisan pada kolom country.\n",
        "\n",
        "Secara spesifik, kode ini mengakses semua nilai dalam kolom country dari DataFrame df sebagai data string (teks) menggunakan .str. Kemudian, metode .upper() diterapkan pada setiap nilai tersebut. Fungsi .upper() akan mengubah semua karakter huruf dalam teks menjadi huruf besar (kapital).\n",
        "\n",
        "Tujuan utama dari langkah ini adalah untuk mengatasi inkonsistensi data. Misalnya, jika dalam data terdapat entri seperti \"USA\", \"Usa\", dan \"usa\", setelah kode ini dijalankan, semuanya akan seragam menjadi \"USA\". Hal ini memastikan bahwa saat melakukan analisis atau pengelompokan data berdasarkan negara, semua variasi penulisan akan diperlakukan sebagai satu kategori yang sama."
      ],
      "metadata": {
        "id": "RCHyz1fxdZbG"
      }
    },
    {
      "cell_type": "code",
      "source": [
        "# Transformasi kolom 'color': menyeragamkan penggunaan huruf besar\n",
        "df['color'] = df['color'].str.upper()"
      ],
      "metadata": {
        "id": "A_I4wQWYZsq9"
      },
      "execution_count": 33,
      "outputs": []
    },
    {
      "cell_type": "markdown",
      "source": [
        "Kode ini melakukan langkah standarisasi data pada kolom color dalam DataFrame df.\n",
        "\n",
        "Secara rinci, kode ini mengakses setiap nilai dalam kolom color sebagai data teks (string) menggunakan accessor .str. Kemudian, metode .upper() diterapkan pada setiap nilai tersebut. Fungsi ini mengubah semua karakter dalam teks menjadi huruf besar (kapital).\n",
        "\n",
        "Tujuan dari operasi ini adalah untuk menyeragamkan data dan menghilangkan inkonsistensi. Misalnya, jika dalam dataset terdapat entri \"Color\" dan \"color\", setelah kode ini dijalankan, keduanya akan diubah menjadi \"COLOR\". Hal ini memastikan bahwa saat melakukan analisis atau pengelompokan berdasarkan kategori warna, semua variasi penulisan akan dianggap sebagai satu nilai yang sama, sehingga meningkatkan akurasi analisis."
      ],
      "metadata": {
        "id": "x5stzFNsdexB"
      }
    },
    {
      "cell_type": "markdown",
      "source": [
        "**VERIFIKASI AKHIR DAN PENYIMPANAN**"
      ],
      "metadata": {
        "id": "924Z45q8dPog"
      }
    },
    {
      "cell_type": "code",
      "source": [
        "# LANGKAH 4: VERIFIKASI AKHIR DAN PENYIMPANAN\n",
        "print(\"\\n--- Memulai Langkah 4: Verifikasi Akhir dan Penyimpanan ---\")\n",
        "\n",
        "print(\"\\nInformasi Final Dataset Setelah Preprocessing:\")\n",
        "df.info()\n",
        "\n",
        "print(\"\\nPengecekan Akhir Nilai Kosong:\")\n",
        "print(df.isnull().sum().sum(), \"nilai kosong ditemukan.\") # Menjumlahkan semua nilai kosong\n",
        "\n",
        "# Menyimpan DataFrame yang sudah bersih ke file CSV baru\n",
        "nama_file_hasil = 'movie_sample_dataset_cleaned.csv'\n",
        "try:\n",
        "    df.to_csv(nama_file_hasil, index=False)\n",
        "    print(f\"\\n>>> Proses Selesai! Data bersih berhasil disimpan sebagai '{nama_file_hasil}'\")\n",
        "except Exception as e:\n",
        "    print(f\"Gagal menyimpan file. Error: {e}\")"
      ],
      "metadata": {
        "colab": {
          "base_uri": "https://localhost:8080/"
        },
        "id": "2Zep-z36VLMZ",
        "outputId": "50450502-d4a4-4335-cc7f-e651c03256ed"
      },
      "execution_count": 34,
      "outputs": [
        {
          "output_type": "stream",
          "name": "stdout",
          "text": [
            "\n",
            "--- Memulai Langkah 4: Verifikasi Akhir dan Penyimpanan ---\n",
            "\n",
            "Informasi Final Dataset Setelah Preprocessing:\n",
            "<class 'pandas.core.frame.DataFrame'>\n",
            "Index: 84 entries, 0 to 98\n",
            "Data columns (total 13 columns):\n",
            " #   Column                Non-Null Count  Dtype  \n",
            "---  ------                --------------  -----  \n",
            " 0   color                 84 non-null     object \n",
            " 1   director_name         84 non-null     object \n",
            " 2   duration              84 non-null     int64  \n",
            " 3   gross                 84 non-null     float64\n",
            " 4   genres                84 non-null     object \n",
            " 5   movie_title           84 non-null     object \n",
            " 6   title_year            84 non-null     int64  \n",
            " 7   language              84 non-null     object \n",
            " 8   country               84 non-null     object \n",
            " 9   budget                84 non-null     float64\n",
            " 10  imdb_score            84 non-null     float64\n",
            " 11  actors                84 non-null     object \n",
            " 12  movie_facebook_likes  84 non-null     int64  \n",
            "dtypes: float64(3), int64(3), object(7)\n",
            "memory usage: 9.2+ KB\n",
            "\n",
            "Pengecekan Akhir Nilai Kosong:\n",
            "0 nilai kosong ditemukan.\n",
            "\n",
            ">>> Proses Selesai! Data bersih berhasil disimpan sebagai 'movie_sample_dataset_cleaned.csv'\n"
          ]
        }
      ]
    },
    {
      "cell_type": "markdown",
      "source": [
        "Kode ini merupakan tahap akhir dari alur kerja preprocessing data, yaitu verifikasi final dan penyimpanan hasil.\n",
        "\n",
        "Prosesnya dimulai dengan melakukan verifikasi akhir pada DataFrame df yang telah melalui semua langkah pembersihan dan transformasi. Pertama, df.info() dipanggil untuk menampilkan ringkasan teknis dari DataFrame final, termasuk jumlah baris, tipe data setiap kolom, dan penggunaan memori. Ini berguna untuk memastikan bahwa semua transformasi tipe data telah berhasil. Selanjutnya, df.isnull().sum().sum() dijalankan untuk menghitung total keseluruhan nilai kosong yang tersisa di seluruh DataFrame. Output dari perintah ini memberikan konfirmasi cepat apakah masih ada data yang hilang atau tidak.\n",
        "\n",
        "Setelah verifikasi selesai, langkah terakhir adalah menyimpan DataFrame yang sudah bersih ke dalam sebuah file baru. Sebuah variabel nama_file_hasil didefinisikan untuk menyimpan nama file output, yaitu movie_sample_dataset_cleaned.csv. Proses penyimpanan dilakukan menggunakan fungsi df.to_csv(). Argumen index=False disertakan untuk mencegah Pandas menuliskan nomor indeks dari DataFrame sebagai kolom baru di file CSV, sehingga menjaga struktur data tetap bersih. Seluruh proses penyimpanan ini dibungkus dalam blok try-except untuk menangani potensi error, misalnya jika program tidak memiliki izin untuk menulis file di folder tersebut. Jika berhasil, sebuah pesan konfirmasi akan dicetak untuk memberitahukan bahwa proses telah selesai dan file baru telah disimpan."
      ],
      "metadata": {
        "id": "5uEbXCz8dzpO"
      }
    }
  ]
}